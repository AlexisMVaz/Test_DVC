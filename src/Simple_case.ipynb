{
 "cells": [
  {
   "cell_type": "code",
   "execution_count": 2,
   "metadata": {},
   "outputs": [],
   "source": [
    "from ultralytics import YOLO"
   ]
  },
  {
   "cell_type": "code",
   "execution_count": 3,
   "metadata": {},
   "outputs": [],
   "source": [
    "#Load classification model. Using a pretrained model for now\n",
    "Train = False\n",
    "if Train:\n",
    "    model = YOLO('yolov8n-cls.pt')\n",
    "else:\n",
    "    model = YOLO('runs/classify/train3/weights/last.pt')\n",
    "#If trained load trained model"
   ]
  },
  {
   "cell_type": "code",
   "execution_count": 5,
   "metadata": {},
   "outputs": [
    {
     "name": "stdout",
     "output_type": "stream",
     "text": [
      "New https://pypi.org/project/ultralytics/8.0.232 available 😃 Update with 'pip install -U ultralytics'\n",
      "Ultralytics YOLOv8.0.230 🚀 Python-3.11.6 torch-2.1.2 CUDA:0 (NVIDIA GeForce RTX 4070 Laptop GPU, 7940MiB)\n",
      "\u001b[34m\u001b[1mengine/trainer: \u001b[0mtask=classify, mode=train, model=yolov8n-cls.pt, data=/home/alexismenendez/Downloads/Test_DVC/cats-dogs/data/, epochs=15, time=None, patience=50, batch=16, imgsz=224, save=True, save_period=-1, cache=False, device=0, workers=8, project=None, name=train3, exist_ok=False, pretrained=True, optimizer=auto, verbose=True, seed=0, deterministic=True, single_cls=False, rect=False, cos_lr=False, close_mosaic=10, resume=False, amp=True, fraction=1.0, profile=False, freeze=None, overlap_mask=True, mask_ratio=4, dropout=0.0, val=True, split=val, save_json=False, save_hybrid=False, conf=None, iou=0.7, max_det=300, half=False, dnn=False, plots=True, source=None, vid_stride=1, stream_buffer=False, visualize=False, augment=False, agnostic_nms=False, classes=None, retina_masks=False, embed=None, show=False, save_frames=False, save_txt=False, save_conf=False, save_crop=False, show_labels=True, show_conf=True, show_boxes=True, line_width=None, format=torchscript, keras=False, optimize=False, int8=False, dynamic=False, simplify=False, opset=None, workspace=4, nms=False, lr0=0.01, lrf=0.01, momentum=0.937, weight_decay=0.0005, warmup_epochs=3.0, warmup_momentum=0.8, warmup_bias_lr=0.1, box=7.5, cls=0.5, dfl=1.5, pose=12.0, kobj=1.0, label_smoothing=0.0, nbs=64, hsv_h=0.015, hsv_s=0.7, hsv_v=0.4, degrees=0.0, translate=0.1, scale=0.5, shear=0.0, perspective=0.0, flipud=0.0, fliplr=0.5, mosaic=1.0, mixup=0.0, copy_paste=0.0, cfg=None, tracker=botsort.yaml, save_dir=runs/classify/train3\n",
      "\u001b[34m\u001b[1mtrain:\u001b[0m /home/alexismenendez/Downloads/Test_DVC/cats-dogs/data/train... found 2000 images in 2 classes ✅ \n",
      "\u001b[34m\u001b[1mval:\u001b[0m /home/alexismenendez/Downloads/Test_DVC/cats-dogs/data/validation... found 800 images in 2 classes ✅ \n",
      "\u001b[34m\u001b[1mtest:\u001b[0m None...\n",
      "\n",
      "                   from  n    params  module                                       arguments                     \n",
      "  0                  -1  1       464  ultralytics.nn.modules.conv.Conv             [3, 16, 3, 2]                 \n",
      "  1                  -1  1      4672  ultralytics.nn.modules.conv.Conv             [16, 32, 3, 2]                \n",
      "  2                  -1  1      7360  ultralytics.nn.modules.block.C2f             [32, 32, 1, True]             \n",
      "  3                  -1  1     18560  ultralytics.nn.modules.conv.Conv             [32, 64, 3, 2]                \n",
      "  4                  -1  2     49664  ultralytics.nn.modules.block.C2f             [64, 64, 2, True]             \n",
      "  5                  -1  1     73984  ultralytics.nn.modules.conv.Conv             [64, 128, 3, 2]               \n",
      "  6                  -1  2    197632  ultralytics.nn.modules.block.C2f             [128, 128, 2, True]           \n",
      "  7                  -1  1    295424  ultralytics.nn.modules.conv.Conv             [128, 256, 3, 2]              \n",
      "  8                  -1  1    460288  ultralytics.nn.modules.block.C2f             [256, 256, 1, True]           \n",
      "  9                  -1  1    332802  ultralytics.nn.modules.head.Classify         [256, 2]                      \n",
      "YOLOv8n-cls summary: 99 layers, 1440850 parameters, 1440850 gradients\n",
      "Transferred 158/158 items from pretrained weights\n",
      "\u001b[34m\u001b[1mAMP: \u001b[0mrunning Automatic Mixed Precision (AMP) checks with YOLOv8n...\n",
      "\u001b[34m\u001b[1mAMP: \u001b[0mchecks failed ❌. Anomalies were detected with AMP on your system that may lead to NaN losses or zero-mAP results, so AMP will be disabled during training.\n"
     ]
    },
    {
     "name": "stderr",
     "output_type": "stream",
     "text": [
      "\u001b[34m\u001b[1mtrain: \u001b[0mScanning /home/alexismenendez/Downloads/Test_DVC/cats-dogs/data/train... 2000 images, 0 corrupt: 100%|██████████| 2000/2000 [00:00<?, ?it/s]\n",
      "\u001b[34m\u001b[1mval: \u001b[0mScanning /home/alexismenendez/Downloads/Test_DVC/cats-dogs/data/validation... 800 images, 0 corrupt: 100%|██████████| 800/800 [00:00<?, ?it/s]\n"
     ]
    },
    {
     "name": "stdout",
     "output_type": "stream",
     "text": [
      "\u001b[34m\u001b[1moptimizer:\u001b[0m 'optimizer=auto' found, ignoring 'lr0=0.01' and 'momentum=0.937' and determining best 'optimizer', 'lr0' and 'momentum' automatically... \n",
      "\u001b[34m\u001b[1moptimizer:\u001b[0m AdamW(lr=0.000714, momentum=0.9) with parameter groups 26 weight(decay=0.0), 27 weight(decay=0.0005), 27 bias(decay=0.0)\n",
      "15 epochs...\n",
      "\n",
      "      Epoch    GPU_mem       loss  Instances       Size\n"
     ]
    },
    {
     "name": "stderr",
     "output_type": "stream",
     "text": [
      "       1/15     0.661G   0.007895         16        224: 100%|██████████| 125/125 [00:02<00:00, 42.59it/s]\n",
      "               classes   top1_acc   top5_acc: 100%|██████████| 25/25 [00:00<00:00, 119.68it/s]"
     ]
    },
    {
     "name": "stdout",
     "output_type": "stream",
     "text": [
      "                   all      0.965          1\n"
     ]
    },
    {
     "name": "stderr",
     "output_type": "stream",
     "text": [
      "\n"
     ]
    },
    {
     "name": "stdout",
     "output_type": "stream",
     "text": [
      "\n",
      "      Epoch    GPU_mem       loss  Instances       Size\n"
     ]
    },
    {
     "name": "stderr",
     "output_type": "stream",
     "text": [
      "       2/15     0.661G   0.001373         16        224: 100%|██████████| 125/125 [00:02<00:00, 54.90it/s]\n",
      "               classes   top1_acc   top5_acc: 100%|██████████| 25/25 [00:00<00:00, 154.58it/s]"
     ]
    },
    {
     "name": "stdout",
     "output_type": "stream",
     "text": [
      "                   all      0.956          1\n"
     ]
    },
    {
     "name": "stderr",
     "output_type": "stream",
     "text": [
      "\n"
     ]
    },
    {
     "name": "stdout",
     "output_type": "stream",
     "text": [
      "\n",
      "      Epoch    GPU_mem       loss  Instances       Size\n"
     ]
    },
    {
     "name": "stderr",
     "output_type": "stream",
     "text": [
      "       3/15      0.65G   0.009564         16        224: 100%|██████████| 125/125 [00:01<00:00, 75.33it/s]\n",
      "               classes   top1_acc   top5_acc: 100%|██████████| 25/25 [00:00<00:00, 194.08it/s]\n"
     ]
    },
    {
     "name": "stdout",
     "output_type": "stream",
     "text": [
      "                   all      0.959          1\n",
      "\n",
      "      Epoch    GPU_mem       loss  Instances       Size\n"
     ]
    },
    {
     "name": "stderr",
     "output_type": "stream",
     "text": [
      "       4/15     0.652G     0.0449         16        224: 100%|██████████| 125/125 [00:01<00:00, 72.98it/s]\n",
      "               classes   top1_acc   top5_acc: 100%|██████████| 25/25 [00:00<00:00, 146.70it/s]"
     ]
    },
    {
     "name": "stdout",
     "output_type": "stream",
     "text": [
      "                   all      0.926          1\n"
     ]
    },
    {
     "name": "stderr",
     "output_type": "stream",
     "text": [
      "\n"
     ]
    },
    {
     "name": "stdout",
     "output_type": "stream",
     "text": [
      "\n",
      "      Epoch    GPU_mem       loss  Instances       Size\n"
     ]
    },
    {
     "name": "stderr",
     "output_type": "stream",
     "text": [
      "       5/15     0.652G    0.03778         16        224: 100%|██████████| 125/125 [00:01<00:00, 79.97it/s]\n",
      "               classes   top1_acc   top5_acc: 100%|██████████| 25/25 [00:00<00:00, 144.62it/s]"
     ]
    },
    {
     "name": "stdout",
     "output_type": "stream",
     "text": [
      "                   all      0.955          1\n"
     ]
    },
    {
     "name": "stderr",
     "output_type": "stream",
     "text": [
      "\n"
     ]
    },
    {
     "name": "stdout",
     "output_type": "stream",
     "text": [
      "\n",
      "      Epoch    GPU_mem       loss  Instances       Size\n"
     ]
    },
    {
     "name": "stderr",
     "output_type": "stream",
     "text": [
      "       6/15      0.65G    0.02671         16        224: 100%|██████████| 125/125 [00:01<00:00, 87.24it/s]\n",
      "               classes   top1_acc   top5_acc: 100%|██████████| 25/25 [00:00<00:00, 170.21it/s]"
     ]
    },
    {
     "name": "stdout",
     "output_type": "stream",
     "text": [
      "                   all      0.951          1\n"
     ]
    },
    {
     "name": "stderr",
     "output_type": "stream",
     "text": [
      "\n"
     ]
    },
    {
     "name": "stdout",
     "output_type": "stream",
     "text": [
      "\n",
      "      Epoch    GPU_mem       loss  Instances       Size\n"
     ]
    },
    {
     "name": "stderr",
     "output_type": "stream",
     "text": [
      "       7/15     0.652G    0.02027         16        224: 100%|██████████| 125/125 [00:01<00:00, 89.19it/s]\n",
      "               classes   top1_acc   top5_acc: 100%|██████████| 25/25 [00:00<00:00, 151.55it/s]"
     ]
    },
    {
     "name": "stdout",
     "output_type": "stream",
     "text": [
      "                   all      0.957          1\n"
     ]
    },
    {
     "name": "stderr",
     "output_type": "stream",
     "text": [
      "\n"
     ]
    },
    {
     "name": "stdout",
     "output_type": "stream",
     "text": [
      "\n",
      "      Epoch    GPU_mem       loss  Instances       Size\n"
     ]
    },
    {
     "name": "stderr",
     "output_type": "stream",
     "text": [
      "       8/15      0.65G   0.003718         16        224: 100%|██████████| 125/125 [00:01<00:00, 99.67it/s] \n",
      "               classes   top1_acc   top5_acc: 100%|██████████| 25/25 [00:00<00:00, 147.35it/s]"
     ]
    },
    {
     "name": "stdout",
     "output_type": "stream",
     "text": [
      "                   all      0.957          1\n"
     ]
    },
    {
     "name": "stderr",
     "output_type": "stream",
     "text": [
      "\n"
     ]
    },
    {
     "name": "stdout",
     "output_type": "stream",
     "text": [
      "\n",
      "      Epoch    GPU_mem       loss  Instances       Size\n"
     ]
    },
    {
     "name": "stderr",
     "output_type": "stream",
     "text": [
      "       9/15     0.652G   0.003276         16        224: 100%|██████████| 125/125 [00:01<00:00, 85.04it/s]\n",
      "               classes   top1_acc   top5_acc: 100%|██████████| 25/25 [00:00<00:00, 175.40it/s]"
     ]
    },
    {
     "name": "stdout",
     "output_type": "stream",
     "text": [
      "                   all      0.951          1\n"
     ]
    },
    {
     "name": "stderr",
     "output_type": "stream",
     "text": [
      "\n"
     ]
    },
    {
     "name": "stdout",
     "output_type": "stream",
     "text": [
      "\n",
      "      Epoch    GPU_mem       loss  Instances       Size\n"
     ]
    },
    {
     "name": "stderr",
     "output_type": "stream",
     "text": [
      "      10/15      0.65G   0.004272         16        224: 100%|██████████| 125/125 [00:01<00:00, 81.83it/s]\n",
      "               classes   top1_acc   top5_acc: 100%|██████████| 25/25 [00:00<00:00, 148.00it/s]"
     ]
    },
    {
     "name": "stdout",
     "output_type": "stream",
     "text": [
      "                   all      0.946          1\n"
     ]
    },
    {
     "name": "stderr",
     "output_type": "stream",
     "text": [
      "\n"
     ]
    },
    {
     "name": "stdout",
     "output_type": "stream",
     "text": [
      "\n",
      "      Epoch    GPU_mem       loss  Instances       Size\n"
     ]
    },
    {
     "name": "stderr",
     "output_type": "stream",
     "text": [
      "      11/15      0.65G   0.002423         16        224: 100%|██████████| 125/125 [00:01<00:00, 84.15it/s]\n",
      "               classes   top1_acc   top5_acc: 100%|██████████| 25/25 [00:00<00:00, 153.44it/s]"
     ]
    },
    {
     "name": "stdout",
     "output_type": "stream",
     "text": [
      "                   all      0.962          1\n"
     ]
    },
    {
     "name": "stderr",
     "output_type": "stream",
     "text": [
      "\n"
     ]
    },
    {
     "name": "stdout",
     "output_type": "stream",
     "text": [
      "\n",
      "      Epoch    GPU_mem       loss  Instances       Size\n"
     ]
    },
    {
     "name": "stderr",
     "output_type": "stream",
     "text": [
      "      12/15     0.652G  0.0006565         16        224: 100%|██████████| 125/125 [00:01<00:00, 86.16it/s]\n",
      "               classes   top1_acc   top5_acc: 100%|██████████| 25/25 [00:00<00:00, 148.07it/s]"
     ]
    },
    {
     "name": "stdout",
     "output_type": "stream",
     "text": [
      "                   all      0.969          1\n"
     ]
    },
    {
     "name": "stderr",
     "output_type": "stream",
     "text": [
      "\n"
     ]
    },
    {
     "name": "stdout",
     "output_type": "stream",
     "text": [
      "\n",
      "      Epoch    GPU_mem       loss  Instances       Size\n"
     ]
    },
    {
     "name": "stderr",
     "output_type": "stream",
     "text": [
      "      13/15     0.652G   0.004367         16        224: 100%|██████████| 125/125 [00:01<00:00, 87.46it/s]\n",
      "               classes   top1_acc   top5_acc: 100%|██████████| 25/25 [00:00<00:00, 201.98it/s]"
     ]
    },
    {
     "name": "stdout",
     "output_type": "stream",
     "text": [
      "                   all       0.96          1\n"
     ]
    },
    {
     "name": "stderr",
     "output_type": "stream",
     "text": [
      "\n"
     ]
    },
    {
     "name": "stdout",
     "output_type": "stream",
     "text": [
      "\n",
      "      Epoch    GPU_mem       loss  Instances       Size\n"
     ]
    },
    {
     "name": "stderr",
     "output_type": "stream",
     "text": [
      "      14/15      0.65G   0.001214         16        224: 100%|██████████| 125/125 [00:02<00:00, 61.58it/s]\n",
      "               classes   top1_acc   top5_acc: 100%|██████████| 25/25 [00:00<00:00, 186.11it/s]"
     ]
    },
    {
     "name": "stdout",
     "output_type": "stream",
     "text": [
      "                   all      0.959          1\n"
     ]
    },
    {
     "name": "stderr",
     "output_type": "stream",
     "text": [
      "\n"
     ]
    },
    {
     "name": "stdout",
     "output_type": "stream",
     "text": [
      "\n",
      "      Epoch    GPU_mem       loss  Instances       Size\n"
     ]
    },
    {
     "name": "stderr",
     "output_type": "stream",
     "text": [
      "      15/15     0.652G  0.0002742         16        224: 100%|██████████| 125/125 [00:01<00:00, 86.77it/s]\n",
      "               classes   top1_acc   top5_acc: 100%|██████████| 25/25 [00:00<00:00, 160.23it/s]"
     ]
    },
    {
     "name": "stdout",
     "output_type": "stream",
     "text": [
      "                   all       0.96          1\n"
     ]
    },
    {
     "name": "stderr",
     "output_type": "stream",
     "text": [
      "\n"
     ]
    },
    {
     "name": "stdout",
     "output_type": "stream",
     "text": [
      "\n",
      "15 epochs completed in 0.008 hours.\n",
      "Optimizer stripped from runs/classify/train3/weights/last.pt, 3.0MB\n",
      "Optimizer stripped from runs/classify/train3/weights/best.pt, 3.0MB\n",
      "\n",
      "Validating runs/classify/train3/weights/best.pt...\n",
      "Ultralytics YOLOv8.0.230 🚀 Python-3.11.6 torch-2.1.2 CUDA:0 (NVIDIA GeForce RTX 4070 Laptop GPU, 7940MiB)\n",
      "YOLOv8n-cls summary (fused): 73 layers, 1437442 parameters, 0 gradients\n",
      "\u001b[34m\u001b[1mtrain:\u001b[0m /home/alexismenendez/Downloads/Test_DVC/cats-dogs/data/train... found 2000 images in 2 classes ✅ \n",
      "\u001b[34m\u001b[1mval:\u001b[0m /home/alexismenendez/Downloads/Test_DVC/cats-dogs/data/validation... found 800 images in 2 classes ✅ \n",
      "\u001b[34m\u001b[1mtest:\u001b[0m None...\n"
     ]
    },
    {
     "name": "stderr",
     "output_type": "stream",
     "text": [
      "               classes   top1_acc   top5_acc: 100%|██████████| 25/25 [00:00<00:00, 151.30it/s]\n"
     ]
    },
    {
     "name": "stdout",
     "output_type": "stream",
     "text": [
      "                   all      0.969          1\n",
      "Speed: 0.1ms preprocess, 0.1ms inference, 0.0ms loss, 0.0ms postprocess per image\n",
      "Results saved to \u001b[1mruns/classify/train3\u001b[0m\n",
      "Results saved to \u001b[1mruns/classify/train3\u001b[0m\n"
     ]
    }
   ],
   "source": [
    "#Train using a cat-dog dataset\n",
    "#It assumes that the data is stored inside a folder called \"train\" and within classified in a different folder per class\n",
    "results = model.train(data='/home/alexismenendez/Downloads/Test_DVC/cats-dogs/data/', epochs=15, plots = True, device = 0)"
   ]
  },
  {
   "cell_type": "code",
   "execution_count": 5,
   "metadata": {},
   "outputs": [
    {
     "name": "stdout",
     "output_type": "stream",
     "text": [
      "Ultralytics YOLOv8.0.230 🚀 Python-3.11.6 torch-2.1.2 CUDA:0 (NVIDIA GeForce RTX 4070 Laptop GPU, 7940MiB)\n",
      "\u001b[34m\u001b[1mtrain:\u001b[0m /home/alexismenendez/Downloads/Test_DVC/cats-dogs/data/train... found 2000 images in 2 classes ✅ \n",
      "\u001b[34m\u001b[1mval:\u001b[0m /home/alexismenendez/Downloads/Test_DVC/cats-dogs/data/validation... found 800 images in 2 classes ✅ \n",
      "\u001b[34m\u001b[1mtest:\u001b[0m None...\n"
     ]
    },
    {
     "name": "stderr",
     "output_type": "stream",
     "text": [
      "\u001b[34m\u001b[1mval: \u001b[0mScanning /home/alexismenendez/Downloads/Test_DVC/cats-dogs/data/validation... 800 images, 0 corrupt: 100%|██████████| 800/800 [00:00<?, ?it/s]\n",
      "               classes   top1_acc   top5_acc: 100%|██████████| 800/800 [00:02<00:00, 344.16it/s]\n"
     ]
    },
    {
     "name": "stdout",
     "output_type": "stream",
     "text": [
      "                   all      0.951          1\n",
      "Speed: 0.2ms preprocess, 2.3ms inference, 0.0ms loss, 0.0ms postprocess per image\n",
      "Results saved to \u001b[1mruns/classify/val2\u001b[0m\n"
     ]
    }
   ],
   "source": [
    "#Check performance validation set.\n",
    "#Path to data is stored in cache.\n",
    "results = model.val(batch = 1)\n",
    "#Weird bug in ultralytics YOLOv8.0.230, using a batch != 1 will raise an error"
   ]
  },
  {
   "cell_type": "code",
   "execution_count": null,
   "metadata": {},
   "outputs": [],
   "source": []
  }
 ],
 "metadata": {
  "kernelspec": {
   "display_name": "TestAI",
   "language": "python",
   "name": "python3"
  },
  "language_info": {
   "codemirror_mode": {
    "name": "ipython",
    "version": 3
   },
   "file_extension": ".py",
   "mimetype": "text/x-python",
   "name": "python",
   "nbconvert_exporter": "python",
   "pygments_lexer": "ipython3",
   "version": "3.11.6"
  }
 },
 "nbformat": 4,
 "nbformat_minor": 2
}
